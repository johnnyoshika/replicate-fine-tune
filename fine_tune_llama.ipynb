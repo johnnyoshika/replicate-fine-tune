{
 "cells": [
  {
   "cell_type": "markdown",
   "metadata": {},
   "source": [
    "# Fine-tune Llama"
   ]
  },
  {
   "cell_type": "markdown",
   "metadata": {},
   "source": [
    "Inspiration: https://replicate.com/blog/fine-tune-llama-2\n",
    "\n",
    "First attempted this with 50 training set data and it failed: https://replicate.com/p/1ayb7jskhdrgm0cfhs79r182r4?input=form\n",
    "Then with 500 training set data and it succeeded: https://replicate.com/p/t58a3v98v9rgp0cfhsaak7weqw?input=form"
   ]
  },
  {
   "cell_type": "markdown",
   "metadata": {},
   "source": [
    "## Set Up Environment"
   ]
  },
  {
   "cell_type": "code",
   "execution_count": 4,
   "metadata": {},
   "outputs": [
    {
     "data": {
      "text/plain": [
       "True"
      ]
     },
     "execution_count": 4,
     "metadata": {},
     "output_type": "execute_result"
    }
   ],
   "source": [
    "from dotenv import load_dotenv\n",
    "\n",
    "load_dotenv()"
   ]
  },
  {
   "cell_type": "markdown",
   "metadata": {},
   "source": [
    "## Train"
   ]
  },
  {
   "cell_type": "code",
   "execution_count": 5,
   "metadata": {},
   "outputs": [
    {
     "name": "stdout",
     "output_type": "stream",
     "text": [
      "id='t58a3v98v9rgp0cfhsaak7weqw' model='meta/llama-2-7b' version='77dde5d6c56598691b9008f7d123a18d98f40e4b4978f8a72215ebfc2553ddd8' destination=None status='starting' input={'num_train_epochs': 3, 'run_validation': True, 'train_batch_size': 4, 'train_data': 'https://gist.githubusercontent.com/johnnyoshika/3c89b3d26ab6db491cbdf7aa63c6b79b/raw/299e238ef5d8793ca2c0aa3a4a45b681c1ba5677/llama-2-training-data-combine-numbers.jsonl'} output=None logs='' error=None created_at='2024-05-19T00:50:31.258Z' started_at=None completed_at=None urls={'cancel': 'https://api.replicate.com/v1/predictions/t58a3v98v9rgp0cfhsaak7weqw/cancel', 'get': 'https://api.replicate.com/v1/predictions/t58a3v98v9rgp0cfhsaak7weqw'}\n"
     ]
    }
   ],
   "source": [
    "import replicate\n",
    "\n",
    "# Use meta/llama-2-7b https://replicate.com/meta/llama-2-7b/train\n",
    "\n",
    "training = replicate.trainings.create(\n",
    "  version=\"meta/llama-2-7b:77dde5d6c56598691b9008f7d123a18d98f40e4b4978f8a72215ebfc2553ddd8\",\n",
    "  input={\n",
    "    # All input options: https://replicate.com/meta/llama-2-13b/train\n",
    "    # Our trining data only has 22 records.\n",
    "    \"train_data\": \"https://gist.githubusercontent.com/johnnyoshika/3c89b3d26ab6db491cbdf7aa63c6b79b/raw/299e238ef5d8793ca2c0aa3a4a45b681c1ba5677/llama-2-training-data-combine-numbers.jsonl\",\n",
    "    \"num_train_epochs\": 3, # Number of epochs (iterations over the entire training dataset) to train for (defaults to 3)\n",
    "    \"run_validation\": True, # Default is True\n",
    "    \"train_batch_size\": 4, # Default is 4\n",
    "  },\n",
    "  destination=\"johnnyoshika/llama2-combine-numbers\"\n",
    ")\n",
    "\n",
    "print(training)"
   ]
  },
  {
   "cell_type": "markdown",
   "metadata": {},
   "source": [
    "## Monitor Progress\n",
    "\n",
    "https://replicate.com/trainings"
   ]
  }
 ],
 "metadata": {
  "kernelspec": {
   "display_name": "venv",
   "language": "python",
   "name": "python3"
  },
  "language_info": {
   "codemirror_mode": {
    "name": "ipython",
    "version": 3
   },
   "file_extension": ".py",
   "mimetype": "text/x-python",
   "name": "python",
   "nbconvert_exporter": "python",
   "pygments_lexer": "ipython3",
   "version": "3.11.3"
  }
 },
 "nbformat": 4,
 "nbformat_minor": 2
}
